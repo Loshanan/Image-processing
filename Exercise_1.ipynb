{
 "cells": [
  {
   "cell_type": "markdown",
   "metadata": {
    "id": "9Bmah-mGocz5"
   },
   "source": [
    "# Name: M.Loshanan\n",
    "# Index No: 190363X"
   ]
  },
  {
   "cell_type": "code",
   "execution_count": 1,
   "metadata": {
    "colab": {
     "base_uri": "https://localhost:8080/"
    },
    "id": "5aP9pIWghc8o",
    "outputId": "a95cdfe1-e938-4edf-c483-cee072f3fd32"
   },
   "outputs": [
    {
     "name": "stdout",
     "output_type": "stream",
     "text": [
      "1 : 1\n",
      "2 : 4\n",
      "3 : 9\n",
      "4 : 16\n",
      "5 : 25\n"
     ]
    }
   ],
   "source": [
    "for i in range(1,6):\n",
    "  print(i, ':', i**2)"
   ]
  },
  {
   "cell_type": "code",
   "execution_count": 2,
   "metadata": {
    "colab": {
     "base_uri": "https://localhost:8080/"
    },
    "id": "UpIOvMg6h6t2",
    "outputId": "1ae8433e-ad7a-4fcb-b6e6-3e18294a98ce"
   },
   "outputs": [
    {
     "name": "stdout",
     "output_type": "stream",
     "text": [
      "1 : 1\n",
      "4 : 16\n"
     ]
    }
   ],
   "source": [
    "import sympy\n",
    "for i in range(1,6):\n",
    "  if not sympy.isprime(i):\n",
    "    print(i, ':', i**2)"
   ]
  },
  {
   "cell_type": "code",
   "execution_count": 3,
   "metadata": {
    "colab": {
     "base_uri": "https://localhost:8080/"
    },
    "id": "Aj3EaMzsivPm",
    "outputId": "de7c7df0-71ba-4fba-e554-9a14174176be"
   },
   "outputs": [
    {
     "name": "stdout",
     "output_type": "stream",
     "text": [
      "1 : 1\n",
      "2 : 4\n",
      "3 : 9\n",
      "4 : 16\n",
      "5 : 25\n"
     ]
    }
   ],
   "source": [
    "squares = [i**2 for i in range(1,6)]\n",
    "for i, i2 in enumerate(squares):\n",
    "  print(i+1, ':', i2)"
   ]
  },
  {
   "cell_type": "code",
   "execution_count": 4,
   "metadata": {
    "colab": {
     "base_uri": "https://localhost:8080/"
    },
    "id": "qVYwvkwuj4Up",
    "outputId": "fe2e8103-2360-4f24-bf9c-6c52e682d5a3"
   },
   "outputs": [
    {
     "name": "stdout",
     "output_type": "stream",
     "text": [
      "1 : 1\n",
      "4 : 16\n"
     ]
    }
   ],
   "source": [
    "nonprime = [i  for i in range(1,6) if not sympy.isprime(i)]\n",
    "for i in nonprime:\n",
    "  print(i, ':', i**2)"
   ]
  },
  {
   "cell_type": "code",
   "execution_count": 5,
   "metadata": {
    "id": "7971V2NYEkyY"
   },
   "outputs": [],
   "source": [
    "import numpy as np"
   ]
  },
  {
   "cell_type": "code",
   "execution_count": 6,
   "metadata": {
    "colab": {
     "base_uri": "https://localhost:8080/"
    },
    "id": "VbQJ7ppVFC4S",
    "outputId": "4b35ba7d-76d2-4f89-b7b4-d4c0f894322c"
   },
   "outputs": [
    {
     "name": "stdout",
     "output_type": "stream",
     "text": [
      "[[ 9 12 15  9]\n",
      " [25 32 39 19]\n",
      " [41 52 63 29]]\n",
      "[[ 9 12 15  9]\n",
      " [25 32 39 19]\n",
      " [41 52 63 29]]\n",
      "[[ 9 12 15  9]\n",
      " [25 32 39 19]\n",
      " [41 52 63 29]]\n"
     ]
    }
   ],
   "source": [
    "A = np.array([[1, 2],[3, 4], [5, 6]])\n",
    "B = np.array([[7, 8, 9, 1], [1, 2, 3, 4]])\n",
    "print(np.dot(A,B))\n",
    "print(np.matmul(A,B))\n",
    "print(A@B)"
   ]
  },
  {
   "cell_type": "code",
   "execution_count": 7,
   "metadata": {
    "colab": {
     "base_uri": "https://localhost:8080/"
    },
    "id": "SmEE4dq9F24e",
    "outputId": "54b7e6a8-c92a-4bfb-fb1a-c7f6dc630b5c"
   },
   "outputs": [
    {
     "name": "stdout",
     "output_type": "stream",
     "text": [
      "[[ 3  4]\n",
      " [15 16]\n",
      " [15  6]]\n"
     ]
    }
   ],
   "source": [
    "A = np.array([[1, 2],[3, 4], [5, 6]])\n",
    "B = np.array([[3, 2], [5, 4], [3, 1]])\n",
    "print(A*B)"
   ]
  },
  {
   "cell_type": "code",
   "execution_count": 8,
   "metadata": {
    "colab": {
     "base_uri": "https://localhost:8080/"
    },
    "id": "L0rXzK79GjvQ",
    "outputId": "aa00bd90-c327-4fd7-e858-932d969cf2d7"
   },
   "outputs": [
    {
     "name": "stdout",
     "output_type": "stream",
     "text": [
      "[[ 1  9  7  6  7  8  4]\n",
      " [ 9 10  3  7  5  1 10]\n",
      " [ 9  0  8  2 10 10  9]\n",
      " [ 3  3  4  3  8  6  2]\n",
      " [ 3  6  2  0  1  0  9]]\n",
      "[[ 9 10]\n",
      " [ 9  0]\n",
      " [ 3  3]]\n",
      "(3, 2)\n",
      "6\n"
     ]
    }
   ],
   "source": [
    "R = np.random.randint(11, size=(5,7))\n",
    "print(R)\n",
    "newR = R[1:4,:2]\n",
    "print(newR)\n",
    "print(np.shape(newR))\n",
    "print(np.size(newR))"
   ]
  },
  {
   "cell_type": "code",
   "execution_count": 9,
   "metadata": {
    "colab": {
     "base_uri": "https://localhost:8080/"
    },
    "id": "7-NkjZBEIi-V",
    "outputId": "12a35cc6-f48b-45fb-a327-60a5edb385cc"
   },
   "outputs": [
    {
     "name": "stdout",
     "output_type": "stream",
     "text": [
      "A: [[1 2]\n",
      " [3 4]\n",
      " [5 6]]\n",
      "B: [[3]\n",
      " [5]\n",
      " [3]]\n",
      "C: [3]\n",
      "D: [10 20]\n",
      "A+B: [[4 5]\n",
      " [8 9]\n",
      " [8 9]]\n",
      "C*A: [[ 3  6]\n",
      " [ 9 12]\n",
      " [15 18]]\n",
      "A*D: [[ 10  40]\n",
      " [ 30  80]\n",
      " [ 50 120]]\n"
     ]
    }
   ],
   "source": [
    "A = np.array([[1, 2],[3, 4], [5, 6]])\n",
    "B = np.array([[3], [5], [3]])\n",
    "C = np.array([3])\n",
    "D = np.array([10, 20])\n",
    "print('A:', A)\n",
    "print('B:', B)\n",
    "print('C:', C)\n",
    "print('D:', D)\n",
    "print('A+B:', A+B)\n",
    "print('C*A:', C*A)\n",
    "print('A*D:', A*D)"
   ]
  },
  {
   "cell_type": "code",
   "execution_count": 10,
   "metadata": {
    "id": "83fbE56sMSgp"
   },
   "outputs": [],
   "source": [
    "import matplotlib.pyplot as plt"
   ]
  },
  {
   "cell_type": "code",
   "execution_count": 11,
   "metadata": {
    "id": "OCwwfam5NxsI"
   },
   "outputs": [],
   "source": [
    "from numpy import linalg"
   ]
  },
  {
   "cell_type": "code",
   "execution_count": 12,
   "metadata": {
    "colab": {
     "base_uri": "https://localhost:8080/",
     "height": 300
    },
    "id": "6w79OwKcMdpF",
    "outputId": "c497ccf4-bd85-443c-af3a-8685412bf565"
   },
   "outputs": [
    {
     "data": {
      "text/plain": [
       "array([[-3.89349673],\n",
       "       [ 1.89502327]])"
      ]
     },
     "execution_count": 12,
     "metadata": {},
     "output_type": "execute_result"
    },
    {
     "data": {
      "image/png": "[encoded data removed]",
      "text/plain": [
       "<Figure size 432x288 with 1 Axes>"
      ]
     },
     "metadata": {
      "needs_background": "light"
     },
     "output_type": "display_data"
    }
   ],
   "source": [
    "m, c = 2, -4\n",
    "N = 10\n",
    "x = np.linspace(0,N-1, N).reshape(N,1)\n",
    "sigma =1\n",
    "y = m*x + c +np.random.normal(0, sigma, (N,1))\n",
    "plt.scatter(x,y)\n",
    "\n",
    "x = np.append(np.ones((N,1)), x, axis=1)\n",
    "\n",
    "w = linalg.inv(x.T @ x) @ x.T @ y\n",
    "w"
   ]
  },
  {
   "cell_type": "code",
   "execution_count": 13,
   "metadata": {
    "id": "oKgIqbExOEjN"
   },
   "outputs": [],
   "source": [
    "import cv2 as cv"
   ]
  },
  {
   "cell_type": "code",
   "execution_count": 14,
   "metadata": {
    "id": "f7m3KjtfOvuO"
   },
   "outputs": [],
   "source": [
    "im = cv.imread('gal_gaussian.png')\n",
    "\n",
    "blur = cv.GaussianBlur(im,(5,5),0)\n",
    "\n",
    "cv.namedWindow('Image', cv.WINDOW_AUTOSIZE)\n",
    "cv.imshow('Image', im)\n",
    "cv.waitKey(0)\n",
    "cv.imshow('Image', blur)\n",
    "cv.waitKey(0)\n",
    "cv.destroyAllWindows()"
   ]
  },
  {
   "cell_type": "code",
   "execution_count": 15,
   "metadata": {},
   "outputs": [],
   "source": [
    "im = cv.imread('gal_sandp.png')\n",
    "\n",
    "blur = cv.medianBlur(im, 5)\n",
    "\n",
    "cv.namedWindow('Image', cv.WINDOW_AUTOSIZE)\n",
    "cv.imshow('Image', im)\n",
    "cv.waitKey(0)\n",
    "cv.imshow('Image', blur)\n",
    "cv.waitKey(0)\n",
    "cv.destroyAllWindows()"
   ]
  },
  {
   "cell_type": "code",
   "execution_count": 16,
   "metadata": {},
   "outputs": [],
   "source": [
    "im = np.zeros((40,60), dtype=np.uint8)\n",
    "\n",
    "im[0:21, 30:] = 125\n",
    "\n",
    "cv.namedWindow('Image', cv.WINDOW_AUTOSIZE)\n",
    "cv.imshow('Image', im)\n",
    "cv.waitKey(0)\n",
    "cv.destroyAllWindows()"
   ]
  },
  {
   "cell_type": "code",
   "execution_count": 18,
   "metadata": {},
   "outputs": [],
   "source": [
    "im = 255*np.ones((40,60,3), np.uint8)\n",
    "\n",
    "im[21:, :30] = (218, 24, 132)\n",
    "\n",
    "cv.namedWindow('Image', cv.WINDOW_AUTOSIZE)\n",
    "cv.imshow('Image', im)\n",
    "cv.waitKey(0)\n",
    "cv.destroyAllWindows()"
   ]
  },
  {
   "cell_type": "code",
   "execution_count": 23,
   "metadata": {},
   "outputs": [],
   "source": [
    "im = cv.imread('tom_dark.jpg')\n",
    "\n",
    "brightim = im + 100\n",
    "\n",
    "cv.namedWindow('Image', cv.WINDOW_AUTOSIZE)\n",
    "cv.imshow('Image', im)\n",
    "cv.waitKey(0)\n",
    "cv.imshow('Image', brightim)\n",
    "cv.waitKey(0)\n",
    "cv.destroyAllWindows()"
   ]
  }
 ],
 "metadata": {
  "colab": {
   "name": "Exercise_1.ipynb",
   "provenance": []
  },
  "kernelspec": {
   "display_name": "Python 3 (ipykernel)",
   "language": "python",
   "name": "python3"
  },
  "language_info": {
   "codemirror_mode": {
    "name": "ipython",
    "version": 3
   },
   "file_extension": ".py",
   "mimetype": "text/x-python",
   "name": "python",
   "nbconvert_exporter": "python",
   "pygments_lexer": "ipython3",
   "version": "3.9.1"
  }
 },
 "nbformat": 4,
 "nbformat_minor": 4
}
