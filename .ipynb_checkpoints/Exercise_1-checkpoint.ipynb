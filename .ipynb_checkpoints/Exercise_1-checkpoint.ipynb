{
  "nbformat": 4,
  "nbformat_minor": 0,
  "metadata": {
    "colab": {
      "name": "Exercise_1.ipynb",
      "provenance": []
    },
    "kernelspec": {
      "name": "python3",
      "display_name": "Python 3"
    },
    "language_info": {
      "name": "python"
    }
  },
  "cells": [
    {
      "cell_type": "markdown",
      "source": [
        "# Name: M.Loshanan\n",
        "# Index No: 190363X"
      ],
      "metadata": {
        "id": "9Bmah-mGocz5"
      }
    },
    {
      "cell_type": "code",
      "execution_count": null,
      "metadata": {
        "colab": {
          "base_uri": "https://localhost:8080/"
        },
        "id": "5aP9pIWghc8o",
        "outputId": "a95cdfe1-e938-4edf-c483-cee072f3fd32"
      },
      "outputs": [
        {
          "output_type": "stream",
          "name": "stdout",
          "text": [
            "1 : 1\n",
            "2 : 4\n",
            "3 : 9\n",
            "4 : 16\n",
            "5 : 25\n"
          ]
        }
      ],
      "source": [
        "for i in range(1,6):\n",
        "  print(i, ':', i**2)"
      ]
    },
    {
      "cell_type": "code",
      "source": [
        "import sympy\n",
        "for i in range(1,6):\n",
        "  if not sympy.isprime(i):\n",
        "    print(i, ':', i**2)"
      ],
      "metadata": {
        "colab": {
          "base_uri": "https://localhost:8080/"
        },
        "id": "UpIOvMg6h6t2",
        "outputId": "1ae8433e-ad7a-4fcb-b6e6-3e18294a98ce"
      },
      "execution_count": null,
      "outputs": [
        {
          "output_type": "stream",
          "name": "stdout",
          "text": [
            "1 : 1\n",
            "4 : 16\n"
          ]
        }
      ]
    },
    {
      "cell_type": "code",
      "source": [
        "squares = [i**2 for i in range(1,6)]\n",
        "for i, i2 in enumerate(squares):\n",
        "  print(i+1, ':', i2)"
      ],
      "metadata": {
        "colab": {
          "base_uri": "https://localhost:8080/"
        },
        "id": "Aj3EaMzsivPm",
        "outputId": "de7c7df0-71ba-4fba-e554-9a14174176be"
      },
      "execution_count": null,
      "outputs": [
        {
          "output_type": "stream",
          "name": "stdout",
          "text": [
            "1 : 1\n",
            "2 : 4\n",
            "3 : 9\n",
            "4 : 16\n",
            "5 : 25\n"
          ]
        }
      ]
    },
    {
      "cell_type": "code",
      "source": [
        "nonprime = [i  for i in range(1,6) if not sympy.isprime(i)]\n",
        "for i in nonprime:\n",
        "  print(i, ':', i**2)"
      ],
      "metadata": {
        "colab": {
          "base_uri": "https://localhost:8080/"
        },
        "id": "qVYwvkwuj4Up",
        "outputId": "fe2e8103-2360-4f24-bf9c-6c52e682d5a3"
      },
      "execution_count": null,
      "outputs": [
        {
          "output_type": "stream",
          "name": "stdout",
          "text": [
            "1 : 1\n",
            "4 : 16\n"
          ]
        }
      ]
    },
    {
      "cell_type": "code",
      "source": [
        "import numpy as np"
      ],
      "metadata": {
        "id": "7971V2NYEkyY"
      },
      "execution_count": null,
      "outputs": []
    },
    {
      "cell_type": "code",
      "source": [
        "A = np.array([[1, 2],[3, 4], [5, 6]])\n",
        "B = np.array([[7, 8, 9, 1], [1, 2, 3, 4]])\n",
        "print(np.dot(A,B))\n",
        "print(np.matmul(A,B))\n",
        "print(A@B)"
      ],
      "metadata": {
        "colab": {
          "base_uri": "https://localhost:8080/"
        },
        "id": "VbQJ7ppVFC4S",
        "outputId": "4b35ba7d-76d2-4f89-b7b4-d4c0f894322c"
      },
      "execution_count": null,
      "outputs": [
        {
          "output_type": "stream",
          "name": "stdout",
          "text": [
            "[[ 9 12 15  9]\n",
            " [25 32 39 19]\n",
            " [41 52 63 29]]\n",
            "[[ 9 12 15  9]\n",
            " [25 32 39 19]\n",
            " [41 52 63 29]]\n",
            "[[ 9 12 15  9]\n",
            " [25 32 39 19]\n",
            " [41 52 63 29]]\n"
          ]
        }
      ]
    },
    {
      "cell_type": "code",
      "source": [
        "A = np.array([[1, 2],[3, 4], [5, 6]])\n",
        "B = np.array([[3, 2], [5, 4], [3, 1]])\n",
        "print(A*B)"
      ],
      "metadata": {
        "colab": {
          "base_uri": "https://localhost:8080/"
        },
        "id": "SmEE4dq9F24e",
        "outputId": "54b7e6a8-c92a-4bfb-fb1a-c7f6dc630b5c"
      },
      "execution_count": null,
      "outputs": [
        {
          "output_type": "stream",
          "name": "stdout",
          "text": [
            "[[ 3  4]\n",
            " [15 16]\n",
            " [15  6]]\n"
          ]
        }
      ]
    },
    {
      "cell_type": "code",
      "source": [
        "R = np.random.randint(11, size=(5,7))\n",
        "print(R)\n",
        "newR = R[1:4,:2]\n",
        "print(newR)\n",
        "print(np.shape(newR))\n",
        "print(np.size(newR))"
      ],
      "metadata": {
        "colab": {
          "base_uri": "https://localhost:8080/"
        },
        "id": "L0rXzK79GjvQ",
        "outputId": "aa00bd90-c327-4fd7-e858-932d969cf2d7"
      },
      "execution_count": null,
      "outputs": [
        {
          "output_type": "stream",
          "name": "stdout",
          "text": [
            "[[10  5  6  6  9  0 10]\n",
            " [ 5  5  6  2  8  3  9]\n",
            " [ 3  5 10  7 10  3  8]\n",
            " [ 7  3  8 10  6  2  1]\n",
            " [ 8  5  2  8  7  7 10]]\n",
            "[[5 5]\n",
            " [3 5]\n",
            " [7 3]]\n",
            "(3, 2)\n",
            "6\n"
          ]
        }
      ]
    },
    {
      "cell_type": "code",
      "source": [
        "A = np.array([[1, 2],[3, 4], [5, 6]])\n",
        "B = np.array([[3], [5], [3]])\n",
        "C = np.array([3])\n",
        "D = np.array([10, 20])\n",
        "print('A:', A)\n",
        "print('B:', B)\n",
        "print('C:', C)\n",
        "print('D:', D)\n",
        "print('A+B:', A+B)\n",
        "print('C*A:', C*A)\n",
        "print('A*D:', A*D)"
      ],
      "metadata": {
        "colab": {
          "base_uri": "https://localhost:8080/"
        },
        "id": "7-NkjZBEIi-V",
        "outputId": "12a35cc6-f48b-45fb-a327-60a5edb385cc"
      },
      "execution_count": null,
      "outputs": [
        {
          "output_type": "stream",
          "name": "stdout",
          "text": [
            "A: [[1 2]\n",
            " [3 4]\n",
            " [5 6]]\n",
            "B: [[3]\n",
            " [5]\n",
            " [3]]\n",
            "C: [3]\n",
            "D: [10 20]\n",
            "A+B: [[4 5]\n",
            " [8 9]\n",
            " [8 9]]\n",
            "C*A: [[ 3  6]\n",
            " [ 9 12]\n",
            " [15 18]]\n",
            "A*D: [[ 10  40]\n",
            " [ 30  80]\n",
            " [ 50 120]]\n"
          ]
        }
      ]
    },
    {
      "cell_type": "code",
      "source": [
        "import matplotlib.pyplot as plt"
      ],
      "metadata": {
        "id": "83fbE56sMSgp"
      },
      "execution_count": null,
      "outputs": []
    },
    {
      "cell_type": "code",
      "source": [
        "from numpy import linalg"
      ],
      "metadata": {
        "id": "OCwwfam5NxsI"
      },
      "execution_count": null,
      "outputs": []
    },
    {
      "cell_type": "code",
      "source": [
        "m, c = 2, -4\n",
        "N = 10\n",
        "x = np.linspace(0,N-1, N).reshape(N,1)\n",
        "sigma =1\n",
        "y = m*x + c +np.random.normal(0, sigma, (N,1))\n",
        "plt.scatter(x,y)\n",
        "\n",
        "x = np.append(np.ones((N,1)), x, axis=1)\n",
        "\n",
        "w = linalg.inv(x.T @ x) @ x.T @ y\n",
        "w"
      ],
      "metadata": {
        "colab": {
          "base_uri": "https://localhost:8080/",
          "height": 300
        },
        "id": "6w79OwKcMdpF",
        "outputId": "c497ccf4-bd85-443c-af3a-8685412bf565"
      },
      "execution_count": null,
      "outputs": [
        {
          "output_type": "execute_result",
          "data": {
            "text/plain": [
              "array([[-3.97988722],\n",
              "       [ 1.95114582]])"
            ]
          },
          "metadata": {},
          "execution_count": 72
        },
        {
          "output_type": "display_data",
          "data": {
            "image/png": "[encoded data removed]",
            "text/plain": [
              "<Figure size 432x288 with 1 Axes>"
            ]
          },
          "metadata": {
            "needs_background": "light"
          }
        }
      ]
    },
    {
      "cell_type": "code",
      "source": [
        "import cv2 as cv"
      ],
      "metadata": {
        "id": "oKgIqbExOEjN"
      },
      "execution_count": null,
      "outputs": []
    },
    {
      "cell_type": "code",
      "source": [
        "im = cv.imread('gal_gaussian.png')\n",
        "\n",
        "cv.namedWindow('Image', cv.WINDOW_AUTOSIZE)\n",
        "cv.imshow('Image', im)\n",
        "cv.waitkey(0)\n",
        "cv.destroyAllWindows()"
      ],
      "metadata": {
        "id": "f7m3KjtfOvuO"
      },
      "execution_count": null,
      "outputs": []
    }
  ]
}